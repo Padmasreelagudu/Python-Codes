{
  "nbformat": 4,
  "nbformat_minor": 0,
  "metadata": {
    "colab": {
      "provenance": [],
      "authorship_tag": "ABX9TyOCDBLLyumgiIyRZtuYF6zk",
      "include_colab_link": true
    },
    "kernelspec": {
      "name": "python3",
      "display_name": "Python 3"
    },
    "language_info": {
      "name": "python"
    }
  },
  "cells": [
    {
      "cell_type": "markdown",
      "metadata": {
        "id": "view-in-github",
        "colab_type": "text"
      },
      "source": [
        "<a href=\"https://colab.research.google.com/github/Padmasreelagudu/Python-Codes/blob/main/Untitled10.ipynb\" target=\"_parent\"><img src=\"https://colab.research.google.com/assets/colab-badge.svg\" alt=\"Open In Colab\"/></a>"
      ]
    },
    {
      "cell_type": "code",
      "execution_count": null,
      "metadata": {
        "colab": {
          "base_uri": "https://localhost:8080/"
        },
        "id": "pOJQGkimpZj6",
        "outputId": "a38cccf6-fd80-4215-b667-19413488205f"
      },
      "outputs": [
        {
          "output_type": "stream",
          "name": "stdout",
          "text": [
            "Enter a positive integer: 5\n",
            "5! = 5 * 4 * 3 * 2 * 1 = 120\n"
          ]
        }
      ],
      "source": [
        "def factorial(n):\n",
        "    return 1 if n == 0 else n * factorial(n - 1)\n",
        "\n",
        "try:\n",
        "    num = int(input(\"Enter a positive integer: \"))\n",
        "\n",
        "    if num < 0:\n",
        "        print(\"Factorial is not defined for negative numbers.\")\n",
        "    else:\n",
        "        result = factorial(num)\n",
        "        print(f\"{num}! = {' * '.join(map(str, range(num, 0, -1)))} = {result}\")\n",
        "except ValueError:\n",
        "    print(\"Invalid input. Please enter a positive integer.\")"
      ]
    }
  ]
}