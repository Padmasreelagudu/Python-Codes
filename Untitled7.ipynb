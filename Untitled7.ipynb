{
  "nbformat": 4,
  "nbformat_minor": 0,
  "metadata": {
    "colab": {
      "provenance": [],
      "authorship_tag": "ABX9TyNlhIVwYD5umaf681kCeJRq",
      "include_colab_link": true
    },
    "kernelspec": {
      "name": "python3",
      "display_name": "Python 3"
    },
    "language_info": {
      "name": "python"
    }
  },
  "cells": [
    {
      "cell_type": "markdown",
      "metadata": {
        "id": "view-in-github",
        "colab_type": "text"
      },
      "source": [
        "<a href=\"https://colab.research.google.com/github/Padmasreelagudu/Python-Codes/blob/main/Untitled7.ipynb\" target=\"_parent\"><img src=\"https://colab.research.google.com/assets/colab-badge.svg\" alt=\"Open In Colab\"/></a>"
      ]
    },
    {
      "cell_type": "code",
      "execution_count": null,
      "metadata": {
        "colab": {
          "base_uri": "https://localhost:8080/"
        },
        "id": "h525y6lLmF5k",
        "outputId": "f3e051b1-c759-44f4-f67d-98b52119a9c3"
      },
      "outputs": [
        {
          "output_type": "stream",
          "name": "stdout",
          "text": [
            "false\n",
            "Fase\n",
            "Fase\n"
          ]
        }
      ],
      "source": [
        "s=[\"[]\",\"()\"]\n",
        "n=str(input())\n",
        "for n in s:\n",
        "  if n==\"[\":\n",
        "    if n==\"]\":\n",
        "      print(\"True\")\n",
        "  elif n==\"(\":\n",
        "    if n==\")\":\n",
        "      print(\"True\")\n",
        "  else:\n",
        "    print(\"Fase\")"
      ]
    },
    {
      "cell_type": "code",
      "source": [
        "S=str(input())\n",
        "booleanresult=True\n",
        "for element in range(0,len(S)):\n",
        "  if S[element]==\"[\":\n",
        "    if S[element+1]!=\"]\":\n",
        "      print(\"False\")\n",
        "  elif S[element]==\"{\":\n",
        "    if S[element+1]!=\"}\":\n",
        "      print(\"False\")\n",
        "  else:\n",
        "    print(result)\n"
      ],
      "metadata": {
        "colab": {
          "base_uri": "https://localhost:8080/"
        },
        "id": "ROxu26RPpIws",
        "outputId": "8261930a-d99d-4ec5-d5b4-83b118e0ba31"
      },
      "execution_count": null,
      "outputs": [
        {
          "output_type": "stream",
          "name": "stdout",
          "text": [
            "(}\n",
            "False\n",
            "False\n"
          ]
        }
      ]
    }
  ]
}