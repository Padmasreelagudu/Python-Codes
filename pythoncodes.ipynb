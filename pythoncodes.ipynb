{
  "nbformat": 4,
  "nbformat_minor": 0,
  "metadata": {
    "colab": {
      "provenance": [],
      "toc_visible": true,
      "authorship_tag": "ABX9TyOVx6D0pAoh5irRLtypzzP0",
      "include_colab_link": true
    },
    "kernelspec": {
      "name": "python3",
      "display_name": "Python 3"
    },
    "language_info": {
      "name": "python"
    }
  },
  "cells": [
    {
      "cell_type": "markdown",
      "metadata": {
        "id": "view-in-github",
        "colab_type": "text"
      },
      "source": [
        "<a href=\"https://colab.research.google.com/github/Padmasreelagudu/Python-Codes/blob/main/pythoncodes.ipynb\" target=\"_parent\"><img src=\"https://colab.research.google.com/assets/colab-badge.svg\" alt=\"Open In Colab\"/></a>"
      ]
    },
    {
      "cell_type": "markdown",
      "source": [
        "Find the Sum of First N Natural Numbers\n"
      ],
      "metadata": {
        "id": "kePkmKhqHxbN"
      }
    },
    {
      "cell_type": "code",
      "source": [
        "def getSum(num):\n",
        "  if num==1:\n",
        "    return 1\n",
        "\n",
        "  return num+getSum(num-1)\n",
        "num=5\n",
        "print(getSum(num))"
      ],
      "metadata": {
        "colab": {
          "base_uri": "https://localhost:8080/"
        },
        "id": "BJ-gCrmIH4om",
        "outputId": "a374493f-195c-454a-d7bc-6b26cd097306"
      },
      "execution_count": null,
      "outputs": [
        {
          "output_type": "stream",
          "name": "stdout",
          "text": [
            "15\n"
          ]
        }
      ]
    },
    {
      "cell_type": "markdown",
      "source": [
        "sum of N natural numbers\n"
      ],
      "metadata": {
        "id": "QNVAgbDqLOYU"
      }
    },
    {
      "cell_type": "code",
      "source": [
        "def recursum(num):\n",
        "  if num==0:\n",
        "    return num\n",
        "  return num+recursum(num-1)\n",
        "num,sum=6,0\n",
        "print(recursum(num))"
      ],
      "metadata": {
        "colab": {
          "base_uri": "https://localhost:8080/"
        },
        "id": "6AqNlAhLLPSO",
        "outputId": "190fd4b9-8921-4e0c-aadf-d254dff6d5d8"
      },
      "execution_count": null,
      "outputs": [
        {
          "output_type": "stream",
          "name": "stdout",
          "text": [
            "21\n"
          ]
        }
      ]
    },
    {
      "cell_type": "markdown",
      "source": [
        "Sum of Numbers in a given Range"
      ],
      "metadata": {
        "id": "jco2umZGMON1"
      }
    },
    {
      "cell_type": "code",
      "source": [
        "num1, num2 = 3,6\n",
        "sum=0\n",
        "for i in range(num1, num2):\n",
        "  sum+=i\n",
        "print(sum)"
      ],
      "metadata": {
        "colab": {
          "base_uri": "https://localhost:8080/"
        },
        "id": "kObVRwDgMQN-",
        "outputId": "b48b2b57-1d01-4584-cfb7-b36c08da032f"
      },
      "execution_count": null,
      "outputs": [
        {
          "output_type": "stream",
          "name": "stdout",
          "text": [
            "12\n"
          ]
        }
      ]
    },
    {
      "cell_type": "code",
      "source": [
        "def recursum(num):\n",
        "  if num1>num2:\n",
        "    return sum\n",
        "  return num1 + recursum(sum,num1+1,num2)"
      ],
      "metadata": {
        "id": "UX6_EIY0NCwv"
      },
      "execution_count": null,
      "outputs": []
    },
    {
      "cell_type": "markdown",
      "source": [
        "Greatest of Two Numbers"
      ],
      "metadata": {
        "id": "epT-vNfuN0wn"
      }
    },
    {
      "cell_type": "code",
      "source": [
        "num1,num2 = 20,30\n",
        "if num1>num2:\n",
        "  print(num1)\n",
        "else:\n",
        "  print(num2)"
      ],
      "metadata": {
        "colab": {
          "base_uri": "https://localhost:8080/"
        },
        "id": "lRZvV5cGN3ub",
        "outputId": "b6bd4b07-9254-4b84-cc01-d648273e931a"
      },
      "execution_count": null,
      "outputs": [
        {
          "output_type": "stream",
          "name": "stdout",
          "text": [
            "30\n"
          ]
        }
      ]
    },
    {
      "cell_type": "code",
      "source": [
        "num1,num2=20, 30\n",
        "print(max(num1,num2))"
      ],
      "metadata": {
        "colab": {
          "base_uri": "https://localhost:8080/"
        },
        "id": "utezLabvOLJc",
        "outputId": "98798359-7909-4bd8-a7bc-f4a02f743eb3"
      },
      "execution_count": null,
      "outputs": [
        {
          "output_type": "stream",
          "name": "stdout",
          "text": [
            "30\n"
          ]
        }
      ]
    },
    {
      "cell_type": "markdown",
      "source": [
        "Greatest of Three Numbers"
      ],
      "metadata": {
        "id": "UL2flyjPOZrx"
      }
    },
    {
      "cell_type": "code",
      "source": [
        "num1,num2,num3 = 10,20,30\n",
        "max = 0\n",
        "if num1>=num2 and num1>=num3:\n",
        "  print(num1)\n",
        "elif num2>=num1 and num2>=num3:\n",
        "  print(num2)\n",
        "else:\n",
        "  print(num3)"
      ],
      "metadata": {
        "colab": {
          "base_uri": "https://localhost:8080/"
        },
        "id": "riBGWSaLOc_1",
        "outputId": "c2916167-6f00-41cf-ff68-e32df3c20696"
      },
      "execution_count": null,
      "outputs": [
        {
          "output_type": "stream",
          "name": "stdout",
          "text": [
            "30\n"
          ]
        }
      ]
    },
    {
      "cell_type": "code",
      "source": [
        "num1,num2,num3=10,30,20\n",
        "max = 0\n",
        "if num1>=num2:\n",
        "  if num1>=num3:\n",
        "    print(num1)\n",
        "elif num2>=num1:\n",
        "  if num2>=num3:\n",
        "    print(num2)\n",
        "else:\n",
        "  print(num3)"
      ],
      "metadata": {
        "colab": {
          "base_uri": "https://localhost:8080/"
        },
        "id": "_yLpoaaQPB64",
        "outputId": "d8e0899f-58db-4520-efff-00e57c5efe0b"
      },
      "execution_count": null,
      "outputs": [
        {
          "output_type": "stream",
          "name": "stdout",
          "text": [
            "30\n"
          ]
        }
      ]
    },
    {
      "cell_type": "markdown",
      "source": [
        "Leap year or not leap year"
      ],
      "metadata": {
        "id": "PX7bi0K_PmBH"
      }
    },
    {
      "cell_type": "code",
      "source": [
        "year = 2000\n",
        "if (year%40==0 and year%100!=0) or (year%400==0):\n",
        "  print(\"leap year\")\n",
        "else:\n",
        "  print(\"not leap year\")"
      ],
      "metadata": {
        "id": "N1Knk8CDPriE"
      },
      "execution_count": null,
      "outputs": []
    },
    {
      "cell_type": "markdown",
      "source": [
        "Prime Numbers In a Given Range"
      ],
      "metadata": {
        "id": "u7qPB8Z6SKGK"
      }
    },
    {
      "cell_type": "code",
      "source": [
        "n = int(input())\n",
        "if(n>1):\n",
        "  for i in range(2, int(n**0.5)+1):\n",
        "    if n%i==0:\n",
        "      print(n,\"not prime\")\n",
        "      break\n",
        "    else:\n",
        "      print(n,\"not prime\")\n",
        "      break"
      ],
      "metadata": {
        "colab": {
          "base_uri": "https://localhost:8080/"
        },
        "id": "FIguCEQ6SpZR",
        "outputId": "87b1a29c-db76-42bc-9931-56c0634b7268"
      },
      "execution_count": null,
      "outputs": [
        {
          "output_type": "stream",
          "name": "stdout",
          "text": [
            "67\n",
            "67 not prime\n"
          ]
        }
      ]
    },
    {
      "cell_type": "markdown",
      "source": [
        "Prime number\n"
      ],
      "metadata": {
        "id": "Mvg1lj_sUJfN"
      }
    },
    {
      "cell_type": "code",
      "source": [
        "num = int(input())\n",
        "flag = 0\n",
        "for i in range(2,num):\n",
        "  if num%i==0:\n",
        "    flag = 1\n",
        "    break\n",
        "if flag==1:\n",
        "  print(\"Not Prime\")\n",
        "else:\n",
        "  print(\"Prime\")"
      ],
      "metadata": {
        "id": "JDZySD4jUJFp"
      },
      "execution_count": null,
      "outputs": []
    },
    {
      "cell_type": "markdown",
      "source": [
        "Sum of Digits of a Number"
      ],
      "metadata": {
        "id": "dLMjqmyAWSuC"
      }
    },
    {
      "cell_type": "code",
      "source": [
        "num = input(\"Enter a number:\")\n",
        "sum = 0\n",
        "for i in num:\n",
        "  sum = sum+int(i)\n",
        "print(sum)\n"
      ],
      "metadata": {
        "colab": {
          "base_uri": "https://localhost:8080/"
        },
        "id": "aqFXfh2SWTiL",
        "outputId": "08eed691-29ca-47f6-eb9f-a7409349a77c"
      },
      "execution_count": null,
      "outputs": [
        {
          "output_type": "stream",
          "name": "stdout",
          "text": [
            "Enter a number:123456\n",
            "21\n"
          ]
        }
      ]
    },
    {
      "cell_type": "markdown",
      "source": [
        "Reverse a Number"
      ],
      "metadata": {
        "id": "pz6iUsiVakj-"
      }
    },
    {
      "cell_type": "code",
      "source": [
        "num = 1234\n",
        "print(str(num)[::-1])"
      ],
      "metadata": {
        "colab": {
          "base_uri": "https://localhost:8080/"
        },
        "id": "E-IF_xfTalbG",
        "outputId": "1a5e1786-d64e-4dff-f88f-6857294fc4c0"
      },
      "execution_count": null,
      "outputs": [
        {
          "output_type": "stream",
          "name": "stdout",
          "text": [
            "4321\n"
          ]
        }
      ]
    },
    {
      "cell_type": "code",
      "source": [
        "num = 1234\n",
        "temp = num\n",
        "reverse = 0\n",
        "while num>0:\n",
        "  reminder = num%10\n",
        "  reverse = (reverse*10)+remainder\n",
        "  num = num//10\n",
        "print(reverse)"
      ],
      "metadata": {
        "id": "_EmE1gIOdFxq"
      },
      "execution_count": null,
      "outputs": []
    },
    {
      "cell_type": "markdown",
      "source": [
        "Palindrome Program"
      ],
      "metadata": {
        "id": "EQUAmzZHeIlj"
      }
    },
    {
      "cell_type": "code",
      "source": [
        "def is_palindrome(n):\n",
        "  return str(n) == str(n)[::-1]\n",
        "num = int(input(\"Enter a number:\"))\n",
        "if is_palindrome(num):\n",
        "  print(f\"{num} is a palindrome\")\n",
        "else:\n",
        "  print(f\"{num} is not a palindrome\")"
      ],
      "metadata": {
        "colab": {
          "base_uri": "https://localhost:8080/"
        },
        "id": "Qoe7FfayeIPu",
        "outputId": "e6d3ae7c-c274-4255-ef19-3df1660406e3"
      },
      "execution_count": null,
      "outputs": [
        {
          "output_type": "stream",
          "name": "stdout",
          "text": [
            "Enter a number:1221\n",
            "1221 is a palindrome\n"
          ]
        }
      ]
    },
    {
      "cell_type": "markdown",
      "source": [
        "Armstrong number"
      ],
      "metadata": {
        "id": "BWmagK8whN-W"
      }
    },
    {
      "cell_type": "code",
      "source": [
        "n = int(input())\n",
        "sum = 0\n",
        "temp = n\n",
        "while temp>0:\n",
        "  r=temp%10\n",
        "  sum+=r**3\n",
        "  temp//=10\n",
        "if(n==sum):\n",
        "  print(\"armstrong\")\n",
        "else:\n",
        "  print(\"not armstrong\")"
      ],
      "metadata": {
        "colab": {
          "base_uri": "https://localhost:8080/"
        },
        "id": "ungx71k_hR8d",
        "outputId": "71f8ee7e-9121-4916-8b43-a0e53e9d2a03"
      },
      "execution_count": null,
      "outputs": [
        {
          "output_type": "stream",
          "name": "stdout",
          "text": [
            "371\n",
            "armstrong\n"
          ]
        }
      ]
    },
    {
      "cell_type": "markdown",
      "source": [
        "Fibonacci series"
      ],
      "metadata": {
        "id": "kNAGft0Ojkpd"
      }
    },
    {
      "cell_type": "code",
      "source": [
        "fib = 10\n",
        "n1,n2 = 0,1\n",
        "for i in range(fib):\n",
        "  n1,n2 = n2,n2+n1\n",
        "  print(n1)"
      ],
      "metadata": {
        "colab": {
          "base_uri": "https://localhost:8080/"
        },
        "id": "4e0IvJ_xjkLP",
        "outputId": "232c4308-b79a-4cf0-9aa2-9f5dee81fd13"
      },
      "execution_count": null,
      "outputs": [
        {
          "output_type": "stream",
          "name": "stdout",
          "text": [
            "1\n",
            "1\n",
            "2\n",
            "3\n",
            "5\n",
            "8\n",
            "13\n",
            "21\n",
            "34\n",
            "55\n"
          ]
        }
      ]
    },
    {
      "cell_type": "code",
      "source": [
        "fib = 10\n",
        "a,b = 0,1\n",
        "count = 0\n",
        "while(count<fib):\n",
        "  print(a,end=\" \")\n",
        "  a,b=b,a+b\n",
        "  count+=1"
      ],
      "metadata": {
        "colab": {
          "base_uri": "https://localhost:8080/"
        },
        "id": "doxi3hXHkKZJ",
        "outputId": "1d89bf9f-2726-4eec-c307-2e87da2b6b0b"
      },
      "execution_count": null,
      "outputs": [
        {
          "output_type": "stream",
          "name": "stdout",
          "text": [
            "0 1 1 2 3 5 8 13 21 34 "
          ]
        }
      ]
    },
    {
      "cell_type": "markdown",
      "source": [
        "Factorial Number"
      ],
      "metadata": {
        "id": "oli8CKx8mV1d"
      }
    },
    {
      "cell_type": "code",
      "source": [
        "import math\n",
        "num = int(input(\"Enter a number:\"))\n",
        "print(f\"Factorial of {num} is: {math.factorial(num)}\")"
      ],
      "metadata": {
        "colab": {
          "base_uri": "https://localhost:8080/"
        },
        "id": "k6NTYGB5mZZP",
        "outputId": "24ef852d-a7e9-489a-d305-f3799b25d913"
      },
      "execution_count": null,
      "outputs": [
        {
          "output_type": "stream",
          "name": "stdout",
          "text": [
            "Enter a number:5\n",
            "Factorial of 5 is: 120\n"
          ]
        }
      ]
    },
    {
      "cell_type": "code",
      "source": [
        "def factorial(n):\n",
        "  fact = 1\n",
        "  for i in range(1,n+1):\n",
        "    fact*=i\n",
        "  return fact\n",
        "num = int(input(\"Enter a number:\"))\n",
        "print(f\"Factorial of {num} is: {factorial(num)}\")"
      ],
      "metadata": {
        "colab": {
          "base_uri": "https://localhost:8080/"
        },
        "id": "GVmz-BnFnl_6",
        "outputId": "d65a53b6-f8f7-4af7-9972-e258cea4cd02"
      },
      "execution_count": null,
      "outputs": [
        {
          "output_type": "stream",
          "name": "stdout",
          "text": [
            "Enter a number:6\n",
            "Factorial of 6 is: 720\n"
          ]
        }
      ]
    },
    {
      "cell_type": "code",
      "source": [
        "def factorial(n):\n",
        "  return 1 if n==0 else n*factorial(n-1)\n",
        "num = int(input(\"Enter a number:\"))\n",
        "print(f\"Factorial of {num} is: {factorial(num)}\")\n"
      ],
      "metadata": {
        "colab": {
          "base_uri": "https://localhost:8080/"
        },
        "id": "FY5mG8QvoZ_h",
        "outputId": "4a7b1c14-9c60-42e0-c11d-40f5a0fa056f"
      },
      "execution_count": null,
      "outputs": [
        {
          "output_type": "stream",
          "name": "stdout",
          "text": [
            "Enter a number:7\n",
            "Factorial of 7 is: 5040\n"
          ]
        }
      ]
    },
    {
      "cell_type": "markdown",
      "source": [
        "find Power of a number"
      ],
      "metadata": {
        "id": "DMkajJKapNuB"
      }
    },
    {
      "cell_type": "code",
      "source": [
        "num, power = 3,2\n",
        "print(pow(num,power))"
      ],
      "metadata": {
        "colab": {
          "base_uri": "https://localhost:8080/"
        },
        "id": "d3fQH3WXpO2h",
        "outputId": "0d87ed1a-3334-4119-ff3b-686ea9ca819e"
      },
      "execution_count": null,
      "outputs": [
        {
          "output_type": "stream",
          "name": "stdout",
          "text": [
            "9\n"
          ]
        }
      ]
    },
    {
      "cell_type": "code",
      "source": [
        "num,power = 3,2\n",
        "output = 1\n",
        "for i in range(power):\n",
        "  output*=num\n",
        "print(output)"
      ],
      "metadata": {
        "colab": {
          "base_uri": "https://localhost:8080/"
        },
        "id": "9SejIM1YpdVW",
        "outputId": "e90454bc-2dbd-423c-e4a7-0d1ccdf6c233"
      },
      "execution_count": null,
      "outputs": [
        {
          "output_type": "stream",
          "name": "stdout",
          "text": [
            "9\n"
          ]
        }
      ]
    },
    {
      "cell_type": "code",
      "source": [
        "num, power = 3,2\n",
        "print(num**power)"
      ],
      "metadata": {
        "colab": {
          "base_uri": "https://localhost:8080/"
        },
        "id": "HN2Xd33Mpvlk",
        "outputId": "01381ccd-2d3f-48cf-d21f-c48c070b8771"
      },
      "execution_count": null,
      "outputs": [
        {
          "output_type": "stream",
          "name": "stdout",
          "text": [
            "9\n"
          ]
        }
      ]
    },
    {
      "cell_type": "code",
      "source": [
        "base = int(input(\"Enter a number:\"))\n",
        "expo = int(input(\"Enter a number:\"))\n",
        "value = pow(base,expo)\n",
        "print(value)"
      ],
      "metadata": {
        "colab": {
          "base_uri": "https://localhost:8080/"
        },
        "id": "9q8BglHfp8do",
        "outputId": "2ebea202-5744-4d4c-f2b4-d1f808935d4a"
      },
      "execution_count": null,
      "outputs": [
        {
          "output_type": "stream",
          "name": "stdout",
          "text": [
            "Enter a number:7\n",
            "Enter a number:8\n",
            "5764801\n"
          ]
        }
      ]
    },
    {
      "cell_type": "markdown",
      "source": [
        " find factors of a number"
      ],
      "metadata": {
        "id": "wvgTrjUdqa9w"
      }
    },
    {
      "cell_type": "code",
      "source": [
        "def find_factors(n):\n",
        "  factors = [i for i in range(1, n+1) if n%i==0]\n",
        "  return find_factors\n",
        "num = int(input(\"Enter a number:\"))\n",
        "print(find_factors(num))"
      ],
      "metadata": {
        "colab": {
          "base_uri": "https://localhost:8080/"
        },
        "id": "KGCOmELdqcXV",
        "outputId": "39532ad3-7e47-4010-87b0-8625f780d826"
      },
      "execution_count": null,
      "outputs": [
        {
          "output_type": "stream",
          "name": "stdout",
          "text": [
            "Enter a number:12\n",
            "<function find_factors at 0x7ef2054e0220>\n"
          ]
        }
      ]
    },
    {
      "cell_type": "code",
      "source": [
        "def find_factors(n):\n",
        "  factors=[]\n",
        "  for i in range(1,n+1):\n",
        "    if(n%i==0):\n",
        "      factors.append(i)\n",
        "  return factors\n",
        "n = int(input())\n",
        "print(find_factors(n))"
      ],
      "metadata": {
        "colab": {
          "base_uri": "https://localhost:8080/"
        },
        "id": "qLYccU2nsWIx",
        "outputId": "1c112c37-ba97-4253-9222-2d0045396a51"
      },
      "execution_count": null,
      "outputs": [
        {
          "output_type": "stream",
          "name": "stdout",
          "text": [
            "20\n",
            "[1, 2, 4, 5, 10, 20]\n"
          ]
        }
      ]
    }
  ]
}