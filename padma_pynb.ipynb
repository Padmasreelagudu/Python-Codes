{
  "nbformat": 4,
  "nbformat_minor": 0,
  "metadata": {
    "colab": {
      "provenance": [],
      "authorship_tag": "ABX9TyN5kiaDo82IYakb9wQJnYZB",
      "include_colab_link": true
    },
    "kernelspec": {
      "name": "python3",
      "display_name": "Python 3"
    },
    "language_info": {
      "name": "python"
    }
  },
  "cells": [
    {
      "cell_type": "markdown",
      "metadata": {
        "id": "view-in-github",
        "colab_type": "text"
      },
      "source": [
        "<a href=\"https://colab.research.google.com/github/Padmasreelagudu/Python-Codes/blob/main/padma_pynb.ipynb\" target=\"_parent\"><img src=\"https://colab.research.google.com/assets/colab-badge.svg\" alt=\"Open In Colab\"/></a>"
      ]
    },
    {
      "cell_type": "code",
      "execution_count": null,
      "metadata": {
        "id": "IqCxBtUEF_rn",
        "colab": {
          "base_uri": "https://localhost:8080/"
        },
        "outputId": "6663fae9-3d62-47fa-ae29-74236f97e79b"
      },
      "outputs": [
        {
          "output_type": "stream",
          "name": "stdout",
          "text": [
            "first day\n"
          ]
        }
      ],
      "source": [
        "print(\"first day\")"
      ]
    },
    {
      "cell_type": "code",
      "source": [
        "#this is my first program\n",
        "print(\"padma\")\n",
        ""
      ],
      "metadata": {
        "colab": {
          "base_uri": "https://localhost:8080/"
        },
        "id": "8rvg8pZYz9Vv",
        "outputId": "67d9cdd9-5140-490b-a2d9-b5baf52b8fa8"
      },
      "execution_count": null,
      "outputs": [
        {
          "output_type": "stream",
          "name": "stdout",
          "text": [
            "padma\n"
          ]
        }
      ]
    },
    {
      "cell_type": "code",
      "source": [
        "a=2\n",
        "b=3\n",
        "addition=a+b\n",
        "print(addition)"
      ],
      "metadata": {
        "id": "hnCeKKeMIQSR",
        "colab": {
          "base_uri": "https://localhost:8080/"
        },
        "outputId": "bcd65ab7-08ec-4c24-f327-2d5367f54cb0"
      },
      "execution_count": null,
      "outputs": [
        {
          "output_type": "stream",
          "name": "stdout",
          "text": [
            "5\n"
          ]
        }
      ]
    },
    {
      "cell_type": "code",
      "source": [
        "#float variable\n",
        "a=2,3\n",
        "print(a)"
      ],
      "metadata": {
        "colab": {
          "base_uri": "https://localhost:8080/"
        },
        "id": "olCM3nuszuPh",
        "outputId": "6ecda8c7-8fce-4845-e34a-e891bb03cf9e"
      },
      "execution_count": null,
      "outputs": [
        {
          "output_type": "stream",
          "name": "stdout",
          "text": [
            "(2, 3)\n"
          ]
        }
      ]
    },
    {
      "cell_type": "code",
      "source": [
        "print(\"padma\")"
      ],
      "metadata": {
        "colab": {
          "base_uri": "https://localhost:8080/"
        },
        "id": "gYZ1vCV51Jzd",
        "outputId": "410979b7-a82b-4874-a909-43dfeeabb013"
      },
      "execution_count": null,
      "outputs": [
        {
          "output_type": "stream",
          "name": "stdout",
          "text": [
            "padma\n"
          ]
        }
      ]
    },
    {
      "cell_type": "code",
      "source": [
        "#take 3 integers inputs from the user and display the numbers\n",
        "print(\"enter first value\")\n",
        "x=input()\n",
        "print(\"enter second value\")\n",
        "y=input()\n",
        "print(\"enter third value\")\n",
        "z=input()\n",
        "print(x,y,z)"
      ],
      "metadata": {
        "colab": {
          "base_uri": "https://localhost:8080/"
        },
        "id": "H2iKg9zh1XVz",
        "outputId": "2d5d7abd-f2b6-4ef4-b133-fbe988766756"
      },
      "execution_count": null,
      "outputs": [
        {
          "output_type": "stream",
          "name": "stdout",
          "text": [
            "enter first value\n",
            "2\n",
            "enter second value\n",
            "3\n",
            "enter third value\n",
            "4\n",
            "2 3 4\n"
          ]
        }
      ]
    },
    {
      "cell_type": "code",
      "source": [
        "#take 3 strings input from the user and display them together\n",
        "print(\"enter 3 strings input from the user\")\n",
        "a=input()\n",
        "b=input()\n",
        "c=input()\n",
        "print(a+\"\"+b+\"\"+c)"
      ],
      "metadata": {
        "colab": {
          "base_uri": "https://localhost:8080/"
        },
        "id": "souH9Pvg3UOi",
        "outputId": "e4db5597-ef13-4545-f4c7-7032229fb393"
      },
      "execution_count": null,
      "outputs": [
        {
          "output_type": "stream",
          "name": "stdout",
          "text": [
            "enter 3 strings input from the user\n",
            "padma\n",
            "devi\n",
            "srejaya\n",
            "padmadevisrejaya\n"
          ]
        }
      ]
    },
    {
      "cell_type": "code",
      "source": [
        "#data types in python\n",
        "#integer(int)\n",
        "#float(float)\n",
        "#double(double)\n",
        "#string(string)\n",
        "#character(char)\n",
        "#boolean"
      ],
      "metadata": {
        "id": "ts_lGhGG4sj4"
      },
      "execution_count": null,
      "outputs": []
    },
    {
      "cell_type": "code",
      "source": [
        "#write a code to print 1 to 10 in python\n",
        "for i in range(1,11):\n",
        "   print(i)"
      ],
      "metadata": {
        "id": "HyfUlXgy5sbX"
      },
      "execution_count": null,
      "outputs": []
    }
  ]
}