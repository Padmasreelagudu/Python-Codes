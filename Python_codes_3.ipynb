{
  "nbformat": 4,
  "nbformat_minor": 0,
  "metadata": {
    "colab": {
      "provenance": [],
      "authorship_tag": "ABX9TyNR7E8osG4leV8ebgbnBLwI",
      "include_colab_link": true
    },
    "kernelspec": {
      "name": "python3",
      "display_name": "Python 3"
    },
    "language_info": {
      "name": "python"
    }
  },
  "cells": [
    {
      "cell_type": "markdown",
      "metadata": {
        "id": "view-in-github",
        "colab_type": "text"
      },
      "source": [
        "<a href=\"https://colab.research.google.com/github/Padmasreelagudu/Python-Codes/blob/main/Untitled11.ipynb\" target=\"_parent\"><img src=\"https://colab.research.google.com/assets/colab-badge.svg\" alt=\"Open In Colab\"/></a>"
      ]
    },
    {
      "cell_type": "markdown",
      "source": [
        "# If statements"
      ],
      "metadata": {
        "id": "COuDHe9ewf5p"
      }
    },
    {
      "cell_type": "markdown",
      "source": [
        "The If statement is used to test a specific condition.If the condition is true ,a block of code will be executed"
      ],
      "metadata": {
        "id": "FcuWUShRwuzX"
      }
    },
    {
      "cell_type": "markdown",
      "source": [
        "#syntax:\n",
        "if condition:\n",
        "   statment\n"
      ],
      "metadata": {
        "id": "rCsFhUs_xPYH"
      }
    },
    {
      "cell_type": "code",
      "source": [
        "a=22\n",
        "b=42\n",
        "if b>a:\n",
        "  print(\"b is greater than a\")"
      ],
      "metadata": {
        "colab": {
          "base_uri": "https://localhost:8080/"
        },
        "id": "QMm1SLrQxrV7",
        "outputId": "e928332a-e787-45bb-c6fd-4eb82421681e"
      },
      "execution_count": null,
      "outputs": [
        {
          "output_type": "stream",
          "name": "stdout",
          "text": [
            "b is greater than a\n"
          ]
        }
      ]
    },
    {
      "cell_type": "markdown",
      "source": [
        "#Else statements:\n",
        "The if-else statement provides an else block combined with the if statement which is executed in the false case of the condition.\n",
        "\n",
        "#Syntax:\n",
        "if condition :       \n",
        "  //statement              \n",
        "  else:      \n",
        "  // statement  "
      ],
      "metadata": {
        "id": "_Lt2MUcs1asd"
      }
    },
    {
      "cell_type": "code",
      "source": [
        "a=100\n",
        "b=20\n",
        "if a>b:\n",
        "  print(\"a is greater than b\")\n",
        "else:\n",
        "  print(\"b is greater than a\")"
      ],
      "metadata": {
        "colab": {
          "base_uri": "https://localhost:8080/"
        },
        "id": "SjwhCSA36FcG",
        "outputId": "1e816138-77ca-49bb-e82f-f4eadec1dfd3"
      },
      "execution_count": null,
      "outputs": [
        {
          "output_type": "stream",
          "name": "stdout",
          "text": [
            "a is greater than b\n"
          ]
        }
      ]
    },
    {
      "cell_type": "markdown",
      "source": [
        "#Elif statemnt:\n",
        "The previous condition were not true ,then try this condition\n",
        "\n",
        "#syntax:\n",
        "if expression 1:     \n",
        "//block of statements    \n",
        "elif expression 2:      \n",
        "//block of statements     \n",
        "elif expression 3:   \n",
        " // block of statement      \n",
        " else:     \n",
        " // block of statement"
      ],
      "metadata": {
        "id": "ErDsmxaH7IBt"
      }
    },
    {
      "cell_type": "code",
      "source": [
        "a=22\n",
        "b=22\n",
        "if a>b:\n",
        "  print(\"a is greater than b\")\n",
        "elif a==b:\n",
        "  print(\"a is equal than b\")\n",
        "else:\n",
        "  print(\"b is greater than is to a\")"
      ],
      "metadata": {
        "colab": {
          "base_uri": "https://localhost:8080/"
        },
        "id": "s891nuroAQPp",
        "outputId": "17802170-6e74-49b5-bbad-652f34469b4e"
      },
      "execution_count": null,
      "outputs": [
        {
          "output_type": "stream",
          "name": "stdout",
          "text": [
            "a is equal than b\n"
          ]
        }
      ]
    },
    {
      "cell_type": "markdown",
      "source": [
        "#Nested  if statement:\n",
        "  If staement inside if statement,this is called neested if statement.\n",
        "\n",
        "#syntax:     \n",
        "  if condition 1:     \n",
        "  //block of statement     \n",
        "  if condition 2:    \n",
        "  // block of statement    \n",
        "  else:      \n",
        "  // block of statement\n"
      ],
      "metadata": {
        "id": "oZY6_LOMKDdH"
      }
    },
    {
      "cell_type": "code",
      "source": [
        "x=41\n",
        "\n",
        "if x> 10:\n",
        "  print(\"Above ten,\")\n",
        "if x> 20:\n",
        "  print(\"and also above 20!\")\n",
        "else:\n",
        "  print(\"but not above 20.\")"
      ],
      "metadata": {
        "colab": {
          "base_uri": "https://localhost:8080/"
        },
        "id": "eoKqGQ2hLtOF",
        "outputId": "27b5a4d9-cab6-41cd-bf0d-541f554e2089"
      },
      "execution_count": null,
      "outputs": [
        {
          "output_type": "stream",
          "name": "stdout",
          "text": [
            "Above ten,\n",
            "and also above 20!\n"
          ]
        }
      ]
    },
    {
      "cell_type": "markdown",
      "source": [
        "#The pass statement:\n",
        "If statement cannot be empty,but if you some reson have an if statement with no content,put in the pass satement to avoiud getting an error.\n"
      ],
      "metadata": {
        "id": "ZX45PWaNNYoL"
      }
    },
    {
      "cell_type": "code",
      "source": [
        "a=33\n",
        "b=200\n",
        "\n",
        "if b > a:\n",
        "  pass"
      ],
      "metadata": {
        "id": "oK--B3tbLg5T"
      },
      "execution_count": null,
      "outputs": []
    },
    {
      "cell_type": "markdown",
      "source": [
        "#Ternary operators or conditional statement"
      ],
      "metadata": {
        "id": "6_BUxregPDgx"
      }
    },
    {
      "cell_type": "markdown",
      "source": [
        "#Short hand if:\n",
        "If you have only one statement to execute,you put it on the same line as the if statement.\n",
        "\n",
        "#syntax\n",
        "Condition? value_if_true:value_if_false"
      ],
      "metadata": {
        "id": "-fybLI8zCbHU"
      }
    },
    {
      "cell_type": "code",
      "source": [
        "#only one line if stsatement\n",
        "if a>b:print(\"a is greater than b\")\n"
      ],
      "metadata": {
        "colab": {
          "base_uri": "https://localhost:8080/"
        },
        "id": "CiPhPf6qEzQm",
        "outputId": "1b61fbb0-e769-4c16-f352-7239388103e1"
      },
      "execution_count": null,
      "outputs": [
        {
          "output_type": "stream",
          "name": "stdout",
          "text": [
            "a is greater than b\n"
          ]
        }
      ]
    },
    {
      "cell_type": "markdown",
      "source": [
        "#Short Hand if-else:\n",
        "If have only one statement to execute,one for if, and one for else you can put on the same line.\n",
        "\n",
        "#Syntax:\n",
        "vale_if_true if condition else value_if_false"
      ],
      "metadata": {
        "id": "Te-r-GVsGf9I"
      }
    },
    {
      "cell_type": "code",
      "source": [
        "#only one if else statement:\n",
        "a=3\n",
        "b=9\n",
        "print(\"A\") if a>b else print(\"b\")"
      ],
      "metadata": {
        "colab": {
          "base_uri": "https://localhost:8080/"
        },
        "id": "MgD1bNg0H8t8",
        "outputId": "67beba41-1ae1-47ef-876b-dadeb2b0140b"
      },
      "execution_count": null,
      "outputs": [
        {
          "output_type": "stream",
          "name": "stdout",
          "text": [
            "b\n"
          ]
        }
      ]
    },
    {
      "cell_type": "markdown",
      "source": [
        "#And\n",
        "The and keyword is alogical operator,and is used to combine conditional statements.\n",
        "\n",
        "#syntax:\n",
        " if condition 1 and condition2:       \n",
        " //a code to execute if condition1 and condition 2"
      ],
      "metadata": {
        "id": "Zom32zKfJ9hy"
      }
    },
    {
      "cell_type": "code",
      "source": [
        "a=200\n",
        "b=33\n",
        "c=500\n",
        "if a>b and c>a:\n",
        "  print(\"both conditions are true\")"
      ],
      "metadata": {
        "colab": {
          "base_uri": "https://localhost:8080/"
        },
        "id": "v8caI96nQYAi",
        "outputId": "dac0257e-cd0f-4584-9fcb-7a8a300fb9ef"
      },
      "execution_count": null,
      "outputs": [
        {
          "output_type": "stream",
          "name": "stdout",
          "text": [
            "both conditions are true\n"
          ]
        }
      ]
    },
    {
      "cell_type": "markdown",
      "source": [
        "#Or\n",
        "The or keyword is a logical operator, and is used to combine conditional statements.\n",
        "\n",
        "\n",
        "#Syntax:\n",
        "condition 1 or condition 2"
      ],
      "metadata": {
        "id": "KulfmR5HRlo1"
      }
    },
    {
      "cell_type": "code",
      "source": [
        "a=200\n",
        "b=33\n",
        "c=500\n",
        "if a>b or a>c:\n",
        "  print (\"At aleast one of the condition is True\")"
      ],
      "metadata": {
        "colab": {
          "base_uri": "https://localhost:8080/"
        },
        "id": "F_SH7fznSM2_",
        "outputId": "c1a1c794-ffbc-488d-bc8b-3066057bff2c"
      },
      "execution_count": null,
      "outputs": [
        {
          "output_type": "stream",
          "name": "stdout",
          "text": [
            "At aleast one of the condition is True\n"
          ]
        }
      ]
    },
    {
      "cell_type": "markdown",
      "source": [
        "#Not\n",
        "The not keyword is a logical operator ,and is used to reverse the result of the conditional statement."
      ],
      "metadata": {
        "id": "HE12vnU-TZ33"
      }
    },
    {
      "cell_type": "code",
      "source": [
        "a=33\n",
        "b=200\n",
        "if not a>b:\n",
        "  print(\"a is not greater than b\")"
      ],
      "metadata": {
        "colab": {
          "base_uri": "https://localhost:8080/"
        },
        "id": "nbsWVJPhRhFs",
        "outputId": "a0440e4c-c045-4e8f-c1fb-04319be5f648"
      },
      "execution_count": null,
      "outputs": [
        {
          "output_type": "stream",
          "name": "stdout",
          "text": [
            "a is not greater than b\n"
          ]
        }
      ]
    },
    {
      "cell_type": "markdown",
      "source": [
        "#exampes of conditional statements:"
      ],
      "metadata": {
        "id": "xhC2K9qxVagO"
      }
    },
    {
      "cell_type": "markdown",
      "source": [
        "1. Write a program that checks  if a given number is even or odd using and if-else statements."
      ],
      "metadata": {
        "id": "7LnJ96qjVg-B"
      }
    },
    {
      "cell_type": "code",
      "source": [
        "num = int(input(\"Enter a number:\"))\n",
        "if num%2 == 0:\n",
        "        print(num,\"is even\")\n",
        "else:\n",
        "        print(num,\"is odd\")"
      ],
      "metadata": {
        "colab": {
          "base_uri": "https://localhost:8080/"
        },
        "id": "I7BEVmUFUuyw",
        "outputId": "6a008719-acb2-4ebc-e431-9fb2fa3f8d2e"
      },
      "execution_count": null,
      "outputs": [
        {
          "output_type": "stream",
          "name": "stdout",
          "text": [
            "Enter a number:5\n",
            "5 is odd\n"
          ]
        }
      ]
    },
    {
      "cell_type": "markdown",
      "source": [
        "2.Write a program that checks if a given number is leap year or not using and if-else statements."
      ],
      "metadata": {
        "id": "o-mKuAA2X-So"
      }
    },
    {
      "cell_type": "code",
      "source": [
        "year=int(input(\"Enter your age:\"))\n",
        "if(year%4==0 and year%100!=0)or (year %400==0):\n",
        "  print(f\"{year} is a leap year\")\n",
        "else:\n",
        "  print(f\"{year} is not a leap year\")"
      ],
      "metadata": {
        "colab": {
          "base_uri": "https://localhost:8080/"
        },
        "id": "ONjIt0AEZLVS",
        "outputId": "cd1429f8-9740-42c6-d828-64a49a67883f"
      },
      "execution_count": null,
      "outputs": [
        {
          "output_type": "stream",
          "name": "stdout",
          "text": [
            "Enter your age:19\n",
            "19 is not a leap year\n"
          ]
        }
      ]
    },
    {
      "cell_type": "markdown",
      "source": [
        "#Control statements"
      ],
      "metadata": {
        "id": "vdmFQe-wnUOu"
      }
    },
    {
      "cell_type": "markdown",
      "source": [
        "#For loop:\n",
        "A for loop is used for iterating over a sequence (that is either a blist,a tuple, a dictionary,a set or a string)       \n",
        "with the for loop we can execute a set of statements,once for each item in a list,tuple,set,etc...\n",
        "\n",
        "#syntax:\n",
        "for value in sequence:  \n",
        "   {code block}"
      ],
      "metadata": {
        "id": "nJbFLseynbBQ"
      }
    },
    {
      "cell_type": "code",
      "source": [
        "Name=[\"padhu\",\"mouni\",\"devi\"]\n",
        "for i in Name:\n",
        "  print(i)"
      ],
      "metadata": {
        "colab": {
          "base_uri": "https://localhost:8080/"
        },
        "id": "LSH3-BZNogif",
        "outputId": "515102ac-43b7-4d4a-ccc8-4ce4a8f9bc57"
      },
      "execution_count": null,
      "outputs": [
        {
          "output_type": "stream",
          "name": "stdout",
          "text": [
            "devi\n",
            "padhu\n",
            "mouni\n"
          ]
        }
      ]
    },
    {
      "cell_type": "markdown",
      "source": [
        "#2.The break statement:\n",
        "With the break statement we can stop the loop before it has looped through all the items"
      ],
      "metadata": {
        "id": "NHNp0kCgps2r"
      }
    },
    {
      "cell_type": "code",
      "source": [
        "fruits=[\"apple\",\"banana\",\"grapes\"]\n",
        "for i in fruits:\n",
        "  print(i)\n",
        "  if i==\"banana\":\n",
        "    break"
      ],
      "metadata": {
        "colab": {
          "base_uri": "https://localhost:8080/"
        },
        "id": "4uTHdtFGp80d",
        "outputId": "fc210b6f-4dfd-457d-9d5b-27790291d5cc"
      },
      "execution_count": null,
      "outputs": [
        {
          "output_type": "stream",
          "name": "stdout",
          "text": [
            "apple\n",
            "banana\n"
          ]
        }
      ]
    },
    {
      "cell_type": "markdown",
      "source": [
        "#3.Looping through a string:\n",
        "Even string has a iterable objects,they contain sequence of characters"
      ],
      "metadata": {
        "id": "ItpI6SdDqkkN"
      }
    },
    {
      "cell_type": "code",
      "source": [
        "for i in \"apple\":\n",
        "  print(i)"
      ],
      "metadata": {
        "colab": {
          "base_uri": "https://localhost:8080/"
        },
        "id": "ItrbKxZ3q0_7",
        "outputId": "4ecb2f6b-2d19-42c5-c888-9a60f601fb70"
      },
      "execution_count": null,
      "outputs": [
        {
          "output_type": "stream",
          "name": "stdout",
          "text": [
            "a\n",
            "p\n",
            "p\n",
            "l\n",
            "e\n"
          ]
        }
      ]
    },
    {
      "cell_type": "markdown",
      "source": [
        "#4.continue loop:\n",
        "With the continue statement we can stop the current iteration of the loop, and continue with the next."
      ],
      "metadata": {
        "id": "vT-n6G6vrKvF"
      }
    },
    {
      "cell_type": "code",
      "source": [
        "fruits=[\"apple\",\"banana\",\"cherry\"]\n",
        "for i in fruits:\n",
        "  print(i)\n",
        "  if i==\"banana\":\n",
        "    continue\n",
        "    print(i)"
      ],
      "metadata": {
        "colab": {
          "base_uri": "https://localhost:8080/"
        },
        "id": "1rCerCYerTok",
        "outputId": "adea9f55-7f2d-4a67-97e9-0ac57cc20063"
      },
      "execution_count": null,
      "outputs": [
        {
          "output_type": "stream",
          "name": "stdout",
          "text": [
            "apple\n",
            "banana\n",
            "cherry\n"
          ]
        }
      ]
    },
    {
      "cell_type": "markdown",
      "source": [
        "#while loop\n",
        " with the while loop we can execute a set of statements as long as a condition is true.\n",
        "\n",
        "\n",
        " #syntax:\n",
        " while <condition>    \n",
        " {code block}"
      ],
      "metadata": {
        "id": "E8MDookbr34-"
      }
    },
    {
      "cell_type": "code",
      "source": [
        "i=1\n",
        "while i<6:\n",
        "  print(i)\n",
        "  i+=1"
      ],
      "metadata": {
        "colab": {
          "base_uri": "https://localhost:8080/"
        },
        "id": "wtIcLCkEspCR",
        "outputId": "44bde4cf-7532-43ba-e48b-a5587584d369"
      },
      "execution_count": null,
      "outputs": [
        {
          "output_type": "stream",
          "name": "stdout",
          "text": [
            "1\n",
            "2\n",
            "3\n",
            "4\n",
            "5\n"
          ]
        }
      ]
    },
    {
      "cell_type": "markdown",
      "source": [
        "#2.Break statement\n",
        "with the break statement we can stop the loop even if the while condition is true"
      ],
      "metadata": {
        "id": "9Usm4C5js17q"
      }
    },
    {
      "cell_type": "code",
      "source": [
        "i = 1\n",
        "while i < 6:\n",
        "  print(i)\n",
        "  i += 1"
      ],
      "metadata": {
        "colab": {
          "base_uri": "https://localhost:8080/"
        },
        "id": "51jYBqg1vl6_",
        "outputId": "2d6940c6-bb0a-4dce-b321-747a5d364bee"
      },
      "execution_count": null,
      "outputs": [
        {
          "output_type": "stream",
          "name": "stdout",
          "text": [
            "1\n",
            "2\n",
            "3\n",
            "4\n",
            "5\n"
          ]
        }
      ]
    },
    {
      "cell_type": "markdown",
      "source": [
        "#3.The continue Statement     \n",
        "\n",
        "With the continue statement we can stop the current iteration, and continue with the next:"
      ],
      "metadata": {
        "id": "4hULGlX2uP9c"
      }
    },
    {
      "cell_type": "code",
      "source": [
        "i = 1\n",
        "while i < 6:\n",
        "  print(i)\n",
        "  if i == 3:\n",
        "    break\n",
        "  i += 1"
      ],
      "metadata": {
        "colab": {
          "base_uri": "https://localhost:8080/"
        },
        "id": "Vq2nBxoDvgCM",
        "outputId": "b90e6967-e37b-4cf7-bf3e-c8bbdf2882ce"
      },
      "execution_count": null,
      "outputs": [
        {
          "output_type": "stream",
          "name": "stdout",
          "text": [
            "1\n",
            "2\n",
            "3\n"
          ]
        }
      ]
    }
  ]
}
